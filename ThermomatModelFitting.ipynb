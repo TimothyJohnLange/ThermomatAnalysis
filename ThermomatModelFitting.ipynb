{
 "metadata": {
  "name": "",
  "signature": "sha256:39cb8fa2ba73297c6f2e30a530eda7003f99fcc13d20338ae950a4f60f3cde2c"
 },
 "nbformat": 3,
 "nbformat_minor": 0,
 "worksheets": [
  {
   "cells": [
    {
     "cell_type": "markdown",
     "metadata": {},
     "source": [
      "##Fitting Model to Thermomat Data\n",
      "####See Labuschagne paper for model"
     ]
    },
    {
     "cell_type": "code",
     "collapsed": false,
     "input": [
      "%pylab inline\n",
      "from datahandling import alldatafiles, DataFile, file_parse\n",
      "from time import time as tm\n",
      "import pandas as pd\n",
      "from matplotlib.backends.backend_pdf import PdfPages\n",
      "from lmfit import Parameters, minimize, report_fit\n",
      "from thermomat_functions import cond_model, f2min, find_cut_point, rand_ini_val, parameters\n",
      "from os import path"
     ],
     "language": "python",
     "metadata": {},
     "outputs": [
      {
       "output_type": "stream",
       "stream": "stdout",
       "text": [
        "Populating the interactive namespace from numpy and matplotlib\n"
       ]
      }
     ],
     "prompt_number": 1
    },
    {
     "cell_type": "markdown",
     "metadata": {},
     "source": [
      "####Read files and define parameters"
     ]
    },
    {
     "cell_type": "code",
     "collapsed": false,
     "input": [
      "Files = alldatafiles()"
     ],
     "language": "python",
     "metadata": {},
     "outputs": [],
     "prompt_number": 2
    },
    {
     "cell_type": "markdown",
     "metadata": {},
     "source": [
      "####Data Fitting"
     ]
    },
    {
     "cell_type": "code",
     "collapsed": false,
     "input": [
      "t = tm()\n",
      "\n",
      "sample_number_all = []\n",
      "stability_time_all = []\n",
      "\n",
      "int_abs_err_all = []\n",
      "ps_all = []\n",
      "\n",
      "cnt_all = []\n",
      "\n",
      "with PdfPages('Thermomat Fitting Graph.pdf') as pdf:\n",
      "    for j, f in enumerate(Files[:3]):\n",
      "        time_data, conduct_data = DataFile(f).simple_data()\n",
      "    \n",
      "        # Parsing filename\n",
      "        sample_number = file_parse(f)\n",
      "        sample_number_all.append(sample_number)\n",
      "        \n",
      "        # Trim Data\n",
      "        cut_point = find_cut_point(conduct_data)\n",
      "        \n",
      "        if cut_point != None:\n",
      "            time_data = time_data[:cut_point]\n",
      "            conduct_data = conduct_data[:cut_point]\n",
      "            \n",
      "        # Remove offset\n",
      "        min_cond = min(conduct_data)\n",
      "        conduct_data[:] = [cond - min_cond for cond in conduct_data]        \n",
      "                    \n",
      "        # Find max conductivity to set upper limit of initial beta value\n",
      "        max_cond = max(conduct_data)\n",
      "        ini_val_up_lim = [200.0, 500.0, 3.0*max_cond]\n",
      "        \n",
      "        # Fit Data with multiple starts \n",
      "#         starts = 10\n",
      "        smallest_err = 10000000.0\n",
      "        \n",
      "#         for i in range(starts):\n",
      "        cnt = 0\n",
      "        cnt_2 = 0\n",
      "        int_abs_err = 1001\n",
      "\n",
      "        while cnt_2 < 5 and cnt < 50:\n",
      "            ini_val = rand_ini_val(ini_val_up_lim)\n",
      "            p = parameters(ini_val, ini_val_up_lim)\n",
      "            result = minimize(f2min, p, args=(time_data, conduct_data))\n",
      "\n",
      "            err_list = f2min(p, time_data, conduct_data)\n",
      "            abs_err_list = map(abs, err_list)\n",
      "            int_abs_err = trapz(abs_err_list, x=time_data)\n",
      "            print 'Error = ', int_abs_err\n",
      "            \n",
      "            if int_abs_err < 300:\n",
      "                cnt_2 += 1\n",
      "    \n",
      "            cnt += 1\n",
      "            print 'Count ', cnt\n",
      "#             print 'Count2 ', cnt_2\n",
      "            \n",
      "            smallest_err = min([smallest_err, int_abs_err])\n",
      "            if smallest_err == int_abs_err:\n",
      "                best_p = p\n",
      "                \n",
      "        int_abs_err_all.append(smallest_err)#smallest_err)\n",
      "        ps_all.append(best_p)\n",
      "        cnt_all.append(cnt)\n",
      "                \n",
      "        # Plot fitted model and raw data\n",
      "        fig = figure()\n",
      "        fig.suptitle('Sample Number ' + sample_number)\n",
      "        plot(time_data, conduct_data)\n",
      "        plot(time_data, cond_model(best_p, time_data))\n",
      "        \n",
      "        pdf.savefig(fig)\n",
      "        \n",
      "        print 'Completed Fit', (j + 1)\n",
      "        print 'Sample Number ', sample_number\n",
      "        print '________________________'\n",
      "        \n",
      "req_time = tm() - t\n",
      "print '******************'\n",
      "print 'Time required (min) =', round(req_time/60.0, 2)"
     ],
     "language": "python",
     "metadata": {},
     "outputs": [
      {
       "output_type": "stream",
       "stream": "stdout",
       "text": [
        "Error =  5908.67151757\n",
        "Count  1\n",
        "Error = "
       ]
      },
      {
       "output_type": "stream",
       "stream": "stdout",
       "text": [
        " 77.4899524378\n",
        "Count  2\n",
        "Error =  77.3289799153\n",
        "Count  3\n",
        "Error =  5908.67151757\n",
        "Count  4\n",
        "Error = "
       ]
      },
      {
       "output_type": "stream",
       "stream": "stdout",
       "text": [
        " 77.3289894548\n",
        "Count  5\n",
        "Error =  5908.67151757\n",
        "Count  6\n",
        "Error =  5908.67151757\n",
        "Count  7\n",
        "Error =  5908.67151757\n",
        "Count  8\n",
        "Error =  77.3289805144\n",
        "Count  9\n",
        "Error = "
       ]
      },
      {
       "output_type": "stream",
       "stream": "stdout",
       "text": [
        " 5908.67151757\n",
        "Count  10\n",
        "Error =  5908.67151757\n",
        "Count  11\n",
        "Error =  77.3289789479\n",
        "Count  12\n",
        "Completed Fit"
       ]
      },
      {
       "output_type": "stream",
       "stream": "stdout",
       "text": [
        " 1\n",
        "Sample Number  1\n",
        "________________________\n",
        "Error =  1216.36028333\n",
        "Count  1\n",
        "Error =  1216.36028333\n",
        "Count  2\n",
        "Error =  1216.36028333\n",
        "Count  3\n",
        "Error =  1216.36028333\n",
        "Count  4\n",
        "Error =  1216.36028333\n",
        "Count  5\n",
        "Error =  1216.36028333\n",
        "Count  6\n",
        "Error =  1216.36028333\n",
        "Count  7\n",
        "Error =  1216.36028333\n",
        "Count  8\n",
        "Error =  1216.36028333\n",
        "Count  9\n",
        "Error =  1216.36028333\n",
        "Count  10\n",
        "Error =  1216.36028333\n",
        "Count  11\n",
        "Error = "
       ]
      },
      {
       "output_type": "stream",
       "stream": "stdout",
       "text": [
        " 34.9347091985\n",
        "Count  12\n",
        "Error =  1216.36028333\n",
        "Count  13\n",
        "Error =  1216.36028333\n",
        "Count  14\n",
        "Error =  1216.36028333\n",
        "Count  15\n",
        "Error =  34.8950298579\n",
        "Count  16\n",
        "Error = "
       ]
      },
      {
       "output_type": "stream",
       "stream": "stdout",
       "text": [
        " 34.9347132137\n",
        "Count  17\n",
        "Error =  1216.36028333\n",
        "Count  18\n",
        "Error =  1216.36028333\n",
        "Count  19\n",
        "Error =  1216.36028333\n",
        "Count  20\n",
        "Error = "
       ]
      },
      {
       "output_type": "stream",
       "stream": "stdout",
       "text": [
        " 34.934713939\n",
        "Count  21\n",
        "Error =  1216.36028333\n",
        "Count  22\n",
        "Error =  1216.36028333\n",
        "Count  23\n",
        "Error =  1216.36028333\n",
        "Count  24\n",
        "Error =  1216.36028333\n",
        "Count  25\n",
        "Error =  1216.36028333\n",
        "Count  26\n",
        "Error =  1216.36028333\n",
        "Count  27\n",
        "Error =  1216.36028333\n",
        "Count  28\n",
        "Error =  1216.36028333\n",
        "Count  29\n",
        "Error =  1216.36028333\n",
        "Count  30\n",
        "Error =  1216.36028333\n",
        "Count  31\n",
        "Error =  1216.36028333\n",
        "Count  32\n",
        "Error = "
       ]
      },
      {
       "output_type": "stream",
       "stream": "stdout",
       "text": [
        " 1216.36028333\n",
        "Count  33\n",
        "Error =  1216.36028333\n",
        "Count  34\n",
        "Error =  1216.36028333\n",
        "Count  35\n",
        "Error =  34.9347143041\n",
        "Count  36\n",
        "Completed Fit"
       ]
      },
      {
       "output_type": "stream",
       "stream": "stdout",
       "text": [
        " 2\n",
        "Sample Number  10\n",
        "________________________\n",
        "Error =  1652.46199091\n",
        "Count  1\n",
        "Error = "
       ]
      },
      {
       "output_type": "stream",
       "stream": "stdout",
       "text": [
        " 67.2032674176\n",
        "Count  2\n",
        "Error =  1652.46199091\n",
        "Count  3\n",
        "Error =  1652.46199091\n",
        "Count  4\n",
        "Error =  1652.46199091\n",
        "Count  5\n",
        "Error = "
       ]
      },
      {
       "output_type": "stream",
       "stream": "stdout",
       "text": [
        " 67.2032747618\n",
        "Count  6\n",
        "Error =  1652.46199091\n",
        "Count  7\n",
        "Error =  1652.46199091\n",
        "Count  8\n",
        "Error =  1652.46199091\n",
        "Count  9\n",
        "Error =  1652.46199091\n",
        "Count  10\n",
        "Error =  1652.46199091\n",
        "Count  11\n",
        "Error =  67.2032865913\n",
        "Count  12\n",
        "Error = "
       ]
      },
      {
       "output_type": "stream",
       "stream": "stdout",
       "text": [
        " 1652.46199091\n",
        "Count  13\n",
        "Error =  1652.46199091\n",
        "Count  14\n",
        "Error =  1652.46199091\n",
        "Count  15\n",
        "Error =  1652.46199091\n",
        "Count  16\n",
        "Error = "
       ]
      },
      {
       "output_type": "stream",
       "stream": "stdout",
       "text": [
        " 67.2033124176\n",
        "Count  17\n",
        "Error =  1652.46199091\n",
        "Count  18\n",
        "Error =  1652.46199091\n",
        "Count  19\n",
        "Error =  1652.46199091\n",
        "Count  20\n",
        "Error =  1652.46199091\n",
        "Count  21\n",
        "Error =  1652.46199091\n",
        "Count  22\n",
        "Error = "
       ]
      },
      {
       "output_type": "stream",
       "stream": "stdout",
       "text": [
        " 67.2032593224\n",
        "Count  23\n",
        "Completed Fit"
       ]
      },
      {
       "output_type": "stream",
       "stream": "stdout",
       "text": [
        " 3\n",
        "Sample Number  11\n",
        "________________________\n",
        "******************"
       ]
      },
      {
       "output_type": "stream",
       "stream": "stdout",
       "text": [
        "\n",
        "Time required (min) = 0.03\n"
       ]
      },
      {
       "metadata": {},
       "output_type": "display_data",
       "png": "[encoded data removed]",
       "text": [
        "<matplotlib.figure.Figure at 0x3f6edd8>"
       ]
      },
      {
       "metadata": {},
       "output_type": "display_data",
       "png": "[encoded data removed]",
       "text": [
        "<matplotlib.figure.Figure at 0xc8312e8>"
       ]
      },
      {
       "metadata": {},
       "output_type": "display_data",
       "png": "[encoded data removed]",
       "text": [
        "<matplotlib.figure.Figure at 0x15d0b4e0>"
       ]
      }
     ],
     "prompt_number": 3
    },
    {
     "cell_type": "code",
     "collapsed": false,
     "input": [
      "hist(int_abs_err_all, bins=20)"
     ],
     "language": "python",
     "metadata": {},
     "outputs": [
      {
       "metadata": {},
       "output_type": "pyout",
       "prompt_number": 5,
       "text": [
        "(array([ 1.,  0.,  1.,  0.,  0.,  0.,  0.,  0.,  0.,  0.,  0.,  0.,  0.,\n",
        "         0.,  0.,  0.,  0.,  0.,  0.,  1.]),\n",
        " array([ 47.41060479,  49.44615018,  51.48169558,  53.51724097,\n",
        "         55.55278636,  57.58833175,  59.62387715,  61.65942254,\n",
        "         63.69496793,  65.73051332,  67.76605871,  69.80160411,\n",
        "         71.8371495 ,  73.87269489,  75.90824028,  77.94378568,\n",
        "         79.97933107,  82.01487646,  84.05042185,  86.08596724,  88.12151264]),\n",
        " <a list of 20 Patch objects>)"
       ]
      },
      {
       "metadata": {},
       "output_type": "display_data",
       "png": "[encoded data removed]",
       "text": [
        "<matplotlib.figure.Figure at 0x162b8f60>"
       ]
      }
     ],
     "prompt_number": 5
    },
    {
     "cell_type": "code",
     "collapsed": false,
     "input": [
      "theta_all = []\n",
      "tau_all =[]\n",
      "beta_all = []\n",
      "\n",
      "for p in ps_all:\n",
      "    theta_all.append(p['theta'].value)\n",
      "    tau_all.append(p['tau'].value)\n",
      "    beta_all.append(p['beta'].value)"
     ],
     "language": "python",
     "metadata": {},
     "outputs": [],
     "prompt_number": 4
    },
    {
     "cell_type": "code",
     "collapsed": false,
     "input": [
      "# fitting_data = {'Sample Number': sample_number_all,\n",
      "#                 'theta': theta_all,\n",
      "#                 'tau': tau_all,\n",
      "#                 'K': K_all,\n",
      "#                 'Integral of the Absolute Error': int_abs_err_all\n",
      "#                 }\n",
      "fitting_data = [sample_number_all, theta_all, tau_all, beta_all, int_abs_err_all, cnt_all]\n",
      "indeces = ['Sample Number', 'theta', 'tau', 'beta', 'Integral of the Absolute Error', 'Number of Fits Required']"
     ],
     "language": "python",
     "metadata": {},
     "outputs": [],
     "prompt_number": 5
    },
    {
     "cell_type": "code",
     "collapsed": false,
     "input": [
      "fitting_data_df = pd.DataFrame(data=fitting_data, index=indeces).transpose()\n",
      "fitting_data_df = fitting_data_df.sort('Sample Number')\n",
      "\n",
      "# fitting_data_df.to_csv('Thermomat_Fitted_Parameters.csv')"
     ],
     "language": "python",
     "metadata": {},
     "outputs": [],
     "prompt_number": 6
    },
    {
     "cell_type": "code",
     "collapsed": false,
     "input": [
      "fitting_data_df"
     ],
     "language": "python",
     "metadata": {},
     "outputs": [
      {
       "html": [
        "<div style=\"max-height:1000px;max-width:1500px;overflow:auto;\">\n",
        "<table border=\"1\" class=\"dataframe\">\n",
        "  <thead>\n",
        "    <tr style=\"text-align: right;\">\n",
        "      <th></th>\n",
        "      <th>Sample Number</th>\n",
        "      <th>theta</th>\n",
        "      <th>tau</th>\n",
        "      <th>beta</th>\n",
        "      <th>Integral of the Absolute Error</th>\n",
        "      <th>Number of Fits Required</th>\n",
        "    </tr>\n",
        "  </thead>\n",
        "  <tbody>\n",
        "    <tr>\n",
        "      <th>0</th>\n",
        "      <td>  1</td>\n",
        "      <td> 10.86946</td>\n",
        "      <td> 72.91716</td>\n",
        "      <td> 1010.872</td>\n",
        "      <td> 77.32898</td>\n",
        "      <td> 12</td>\n",
        "    </tr>\n",
        "    <tr>\n",
        "      <th>1</th>\n",
        "      <td> 10</td>\n",
        "      <td> 3.703689</td>\n",
        "      <td> 48.72633</td>\n",
        "      <td> 437.8388</td>\n",
        "      <td> 34.89503</td>\n",
        "      <td> 36</td>\n",
        "    </tr>\n",
        "    <tr>\n",
        "      <th>2</th>\n",
        "      <td> 11</td>\n",
        "      <td> 20.84924</td>\n",
        "      <td> 35.34709</td>\n",
        "      <td> 172.5252</td>\n",
        "      <td> 67.20326</td>\n",
        "      <td> 23</td>\n",
        "    </tr>\n",
        "  </tbody>\n",
        "</table>\n",
        "</div>"
       ],
       "metadata": {},
       "output_type": "pyout",
       "prompt_number": 7,
       "text": [
        "  Sample Number     theta       tau      beta Integral of the Absolute Error  \\\n",
        "0             1  10.86946  72.91716  1010.872                       77.32898   \n",
        "1            10  3.703689  48.72633  437.8388                       34.89503   \n",
        "2            11  20.84924  35.34709  172.5252                       67.20326   \n",
        "\n",
        "  Number of Fits Required  \n",
        "0                      12  \n",
        "1                      36  \n",
        "2                      23  "
       ]
      }
     ],
     "prompt_number": 7
    },
    {
     "cell_type": "code",
     "collapsed": false,
     "input": [],
     "language": "python",
     "metadata": {},
     "outputs": []
    }
   ],
   "metadata": {}
  }
 ]
}